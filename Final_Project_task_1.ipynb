{
  "nbformat": 4,
  "nbformat_minor": 0,
  "metadata": {
    "colab": {
      "provenance": [],
      "authorship_tag": "ABX9TyOWbl/ZGhPLS+R7W44u9gaX",
      "include_colab_link": true
    },
    "kernelspec": {
      "name": "python3",
      "display_name": "Python 3"
    },
    "language_info": {
      "name": "python"
    }
  },
  "cells": [
    {
      "cell_type": "markdown",
      "metadata": {
        "id": "view-in-github",
        "colab_type": "text"
      },
      "source": [
        "<a href=\"https://colab.research.google.com/github/GratsiaMariia/python-crm-data-analysis-x-school/blob/main/Final_Project_task_1.ipynb\" target=\"_parent\"><img src=\"https://colab.research.google.com/assets/colab-badge.svg\" alt=\"Open In Colab\"/></a>"
      ]
    },
    {
      "cell_type": "code",
      "execution_count": null,
      "metadata": {
        "id": "HbK5AVWR1IK4"
      },
      "outputs": [],
      "source": [
        "import numpy as np\n",
        "import seaborn as sns\n",
        "import matplotlib.pyplot as plt\n",
        "import pandas as pd"
      ]
    },
    {
      "cell_type": "code",
      "source": [
        "calls = pd.read_excel('Calls (Done).xlsx')"
      ],
      "metadata": {
        "id": "-lGuo69fMx4e"
      },
      "execution_count": null,
      "outputs": []
    },
    {
      "cell_type": "code",
      "source": [
        "contacts = pd.read_excel('Contacts (Done).xlsx')"
      ],
      "metadata": {
        "id": "_aO9aYiPMz2x"
      },
      "execution_count": null,
      "outputs": []
    },
    {
      "cell_type": "code",
      "source": [
        "spend = pd.read_excel('Spend (Done).xlsx')"
      ],
      "metadata": {
        "id": "EPnAP9HW1YuC"
      },
      "execution_count": null,
      "outputs": []
    },
    {
      "cell_type": "code",
      "source": [
        "deals = pd.read_excel('Deals (Done).xlsx')"
      ],
      "metadata": {
        "id": "n-sb5lW6Mwmx"
      },
      "execution_count": null,
      "outputs": []
    },
    {
      "cell_type": "markdown",
      "source": [
        "## Remove duplicate and irrelevant columns.\n",
        "## Process missing values accordingly\n",
        "## Convert data types for columns such as dates and numeric values."
      ],
      "metadata": {
        "id": "FzWS0HR15Y4R"
      }
    },
    {
      "cell_type": "code",
      "source": [
        "databases = {\n",
        "    'Calls': calls,\n",
        "    'Contacts': contacts,\n",
        "    'Deals': deals,\n",
        "    'Spend': spend\n",
        "}"
      ],
      "metadata": {
        "id": "jaz-FBBL1phM"
      },
      "execution_count": null,
      "outputs": []
    },
    {
      "cell_type": "markdown",
      "source": [
        "\\Remove duplicates and see the report for each table"
      ],
      "metadata": {
        "id": "wJK7P0a25vwP"
      }
    },
    {
      "cell_type": "code",
      "source": [
        "for name, data in databases.items():\n",
        "    original_shape = data.shape[0] # data.shape returns the number of rows and columns - [0]- number of rows\n",
        "    data.drop_duplicates(inplace=True)\n",
        "    data.reset_index(drop=True, inplace=True)\n",
        "    num_duplicates_removed = original_shape - data.shape[0]\n",
        "    print(f'{name}:')\n",
        "    print(f'Duplicates removed: {num_duplicates_removed}')\n",
        "    print(data.info())\n",
        "    print()"
      ],
      "metadata": {
        "colab": {
          "base_uri": "https://localhost:8080/"
        },
        "id": "c_D7EZLY1b-G",
        "outputId": "159cd472-6f3d-422c-e00a-d81b2140e24d"
      },
      "execution_count": null,
      "outputs": [
        {
          "output_type": "stream",
          "name": "stdout",
          "text": [
            "Calls:\n",
            "Duplicates removed: 0\n",
            "<class 'pandas.core.frame.DataFrame'>\n",
            "RangeIndex: 95874 entries, 0 to 95873\n",
            "Data columns (total 11 columns):\n",
            " #   Column                      Non-Null Count  Dtype  \n",
            "---  ------                      --------------  -----  \n",
            " 0   Id                          95874 non-null  int64  \n",
            " 1   Call Start Time             95874 non-null  object \n",
            " 2   Call Owner Name             95874 non-null  object \n",
            " 3   CONTACTID                   91941 non-null  float64\n",
            " 4   Call Type                   95874 non-null  object \n",
            " 5   Call Duration (in seconds)  95791 non-null  float64\n",
            " 6   Call Status                 95874 non-null  object \n",
            " 7   Dialled Number              0 non-null      float64\n",
            " 8   Outgoing Call Status        86875 non-null  object \n",
            " 9   Scheduled in CRM            86875 non-null  float64\n",
            " 10  Tag                         0 non-null      float64\n",
            "dtypes: float64(5), int64(1), object(5)\n",
            "memory usage: 8.0+ MB\n",
            "None\n",
            "\n",
            "Contacts:\n",
            "Duplicates removed: 0\n",
            "<class 'pandas.core.frame.DataFrame'>\n",
            "RangeIndex: 18548 entries, 0 to 18547\n",
            "Data columns (total 4 columns):\n",
            " #   Column              Non-Null Count  Dtype \n",
            "---  ------              --------------  ----- \n",
            " 0   Id                  18548 non-null  int64 \n",
            " 1   Contact Owner Name  18548 non-null  object\n",
            " 2   Created Time        18548 non-null  object\n",
            " 3   Modified Time       18548 non-null  object\n",
            "dtypes: int64(1), object(3)\n",
            "memory usage: 579.8+ KB\n",
            "None\n",
            "\n",
            "Deals:\n",
            "Duplicates removed: 3\n",
            "<class 'pandas.core.frame.DataFrame'>\n",
            "RangeIndex: 21592 entries, 0 to 21591\n",
            "Data columns (total 23 columns):\n",
            " #   Column               Non-Null Count  Dtype  \n",
            "---  ------               --------------  -----  \n",
            " 0   Id                   21590 non-null  float64\n",
            " 1   Deal Owner Name      21561 non-null  object \n",
            " 2   Closing Date         14643 non-null  object \n",
            " 3   Quality              19338 non-null  object \n",
            " 4   Stage                21590 non-null  object \n",
            " 5   Lost Reason          16122 non-null  object \n",
            " 6   Page                 21590 non-null  object \n",
            " 7   Campaign             16066 non-null  object \n",
            " 8   SLA                  15533 non-null  object \n",
            " 9   Content              14146 non-null  object \n",
            " 10  Term                 12453 non-null  object \n",
            " 11  Source               21590 non-null  object \n",
            " 12  Payment Type         496 non-null    object \n",
            " 13  Product              3592 non-null   object \n",
            " 14  Education Type       3300 non-null   object \n",
            " 15  Created Time         21590 non-null  object \n",
            " 16  Course duration      3587 non-null   float64\n",
            " 17  Months of study      840 non-null    float64\n",
            " 18  Initial Amount Paid  4165 non-null   object \n",
            " 19  Offer Total Amount   4185 non-null   object \n",
            " 20  Contact Name         21529 non-null  float64\n",
            " 21  City                 2511 non-null   object \n",
            " 22  Level of Deutsch     1251 non-null   object \n",
            "dtypes: float64(4), object(19)\n",
            "memory usage: 3.8+ MB\n",
            "None\n",
            "\n",
            "Spend:\n",
            "Duplicates removed: 917\n",
            "<class 'pandas.core.frame.DataFrame'>\n",
            "RangeIndex: 19862 entries, 0 to 19861\n",
            "Data columns (total 8 columns):\n",
            " #   Column       Non-Null Count  Dtype         \n",
            "---  ------       --------------  -----         \n",
            " 0   Date         19862 non-null  datetime64[ns]\n",
            " 1   Source       19862 non-null  object        \n",
            " 2   Campaign     14785 non-null  object        \n",
            " 3   Impressions  19862 non-null  int64         \n",
            " 4   Spend        19862 non-null  float64       \n",
            " 5   Clicks       19862 non-null  int64         \n",
            " 6   AdGroup      13951 non-null  object        \n",
            " 7   Ad           13951 non-null  object        \n",
            "dtypes: datetime64[ns](1), float64(1), int64(2), object(4)\n",
            "memory usage: 1.2+ MB\n",
            "None\n",
            "\n"
          ]
        }
      ]
    },
    {
      "cell_type": "markdown",
      "source": [
        "# **CALLS**"
      ],
      "metadata": {
        "id": "FCsjBGXA1yRZ"
      }
    },
    {
      "cell_type": "markdown",
      "source": [
        "On the Calls:\n",
        "1. delete empty columns\n"
      ],
      "metadata": {
        "id": "85mLrMQR_sH7"
      }
    },
    {
      "cell_type": "code",
      "source": [
        "calls = calls.drop(columns=['Dialled Number', 'Tag'])\n",
        "calls.info()"
      ],
      "metadata": {
        "colab": {
          "base_uri": "https://localhost:8080/"
        },
        "collapsed": true,
        "id": "EJFI_Av41tej",
        "outputId": "876b71f1-9812-4e63-f355-f6c7a9c18cab"
      },
      "execution_count": null,
      "outputs": [
        {
          "output_type": "stream",
          "name": "stdout",
          "text": [
            "<class 'pandas.core.frame.DataFrame'>\n",
            "RangeIndex: 95874 entries, 0 to 95873\n",
            "Data columns (total 9 columns):\n",
            " #   Column                      Non-Null Count  Dtype  \n",
            "---  ------                      --------------  -----  \n",
            " 0   Id                          95874 non-null  int64  \n",
            " 1   Call Start Time             95874 non-null  object \n",
            " 2   Call Owner Name             95874 non-null  object \n",
            " 3   CONTACTID                   91941 non-null  float64\n",
            " 4   Call Type                   95874 non-null  object \n",
            " 5   Call Duration (in seconds)  95791 non-null  float64\n",
            " 6   Call Status                 95874 non-null  object \n",
            " 7   Outgoing Call Status        86875 non-null  object \n",
            " 8   Scheduled in CRM            86875 non-null  float64\n",
            "dtypes: float64(3), int64(1), object(5)\n",
            "memory usage: 6.6+ MB\n"
          ]
        }
      ]
    },
    {
      "cell_type": "markdown",
      "source": [
        "2. we check the Call Duration column (in seconds) by connections with Status and Outgoing status - the result is that the cells that are not filled are canceled and overdue - so we fill them with zeros."
      ],
      "metadata": {
        "id": "ojutebcGFhbN"
      }
    },
    {
      "cell_type": "code",
      "source": [
        "grouped_call_status = calls.groupby(calls['Call Duration (in seconds)'].isna())['Call Status'].value_counts()\n",
        "print(grouped_call_status)"
      ],
      "metadata": {
        "colab": {
          "base_uri": "https://localhost:8080/"
        },
        "id": "juPkH8xc1tRY",
        "outputId": "aee86457-7056-4b87-b4b4-17674b9d6568"
      },
      "execution_count": null,
      "outputs": [
        {
          "output_type": "stream",
          "name": "stdout",
          "text": [
            "Call Duration (in seconds)  Call Status               \n",
            "False                       Attended Dialled              70703\n",
            "                            Unattended Dialled            16030\n",
            "                            Missed                         5922\n",
            "                            Received                       3077\n",
            "                            Scheduled Attended Delay         22\n",
            "                            Scheduled Unattended Delay       17\n",
            "                            Scheduled Attended               14\n",
            "                            Scheduled Unattended              6\n",
            "True                        Overdue                          60\n",
            "                            Cancelled                        20\n",
            "                            Scheduled                         3\n",
            "Name: count, dtype: int64\n"
          ]
        }
      ]
    },
    {
      "cell_type": "code",
      "source": [
        "grouped_call_outgoing = calls.groupby(calls['Call Duration (in seconds)'].isna())['Outgoing Call Status'].value_counts()\n",
        "print(grouped_call_outgoing)"
      ],
      "metadata": {
        "colab": {
          "base_uri": "https://localhost:8080/"
        },
        "id": "ObNjSRlI2Amx",
        "outputId": "77b98265-19b6-4a5d-8ab0-3b1947e8a81c"
      },
      "execution_count": null,
      "outputs": [
        {
          "output_type": "stream",
          "name": "stdout",
          "text": [
            "Call Duration (in seconds)  Outgoing Call Status\n",
            "False                       Completed               86792\n",
            "True                        Overdue                    60\n",
            "                            Cancelled                  20\n",
            "                            Scheduled                   3\n",
            "Name: count, dtype: int64\n"
          ]
        }
      ]
    },
    {
      "cell_type": "code",
      "source": [
        "calls['Call Duration (in seconds)'] = calls['Call Duration (in seconds)'].fillna(0)\n",
        "calls['Call Duration (in seconds)'].isna().sum()"
      ],
      "metadata": {
        "colab": {
          "base_uri": "https://localhost:8080/"
        },
        "id": "PNPJqDt-1tIB",
        "outputId": "536d75b6-dafe-455f-baf9-b304fd569366"
      },
      "execution_count": null,
      "outputs": [
        {
          "output_type": "execute_result",
          "data": {
            "text/plain": [
              "0"
            ]
          },
          "metadata": {},
          "execution_count": 13
        }
      ]
    },
    {
      "cell_type": "markdown",
      "source": [
        "3. check the Scheduled in CRM column by links to the Status - the result is that the cells that are not filled are canceled and overdue - so check 'Call Status'. If the call status is Attended Dialled or Unattended Dialled, the function returns False. Otherwise it returns True."
      ],
      "metadata": {
        "id": "OXgPh5IQFv63"
      }
    },
    {
      "cell_type": "code",
      "source": [
        "grouped_data = calls.groupby('Scheduled in CRM')['Call Status'].value_counts()\n",
        "print(grouped_data)"
      ],
      "metadata": {
        "colab": {
          "base_uri": "https://localhost:8080/"
        },
        "id": "Wfcj8p_f2bpA",
        "outputId": "12512547-c1ed-4d8b-e22b-c95f4e524c59"
      },
      "execution_count": null,
      "outputs": [
        {
          "output_type": "stream",
          "name": "stdout",
          "text": [
            "Scheduled in CRM  Call Status               \n",
            "0.0               Attended Dialled              70703\n",
            "                  Unattended Dialled            16030\n",
            "1.0               Overdue                          60\n",
            "                  Scheduled Attended Delay         22\n",
            "                  Cancelled                        20\n",
            "                  Scheduled Unattended Delay       17\n",
            "                  Scheduled Attended               14\n",
            "                  Scheduled Unattended              6\n",
            "                  Scheduled                         3\n",
            "Name: count, dtype: int64\n"
          ]
        }
      ]
    },
    {
      "cell_type": "code",
      "source": [
        "def fill_scheduled_in_crm(row):\n",
        "    if pd.isna(row['Scheduled in CRM']):\n",
        "        if row['Call Status'] in ['Attended Dialled', 'Unattended Dialled']:\n",
        "            return False\n",
        "        else:\n",
        "            return True\n",
        "    else:\n",
        "        return row['Scheduled in CRM']\n",
        "\n",
        "calls['Scheduled in CRM'] = calls.apply(fill_scheduled_in_crm, axis=1)\n",
        "\n",
        "calls['Scheduled in CRM'].isna().sum()"
      ],
      "metadata": {
        "colab": {
          "base_uri": "https://localhost:8080/"
        },
        "id": "ActOn_lg2fgY",
        "outputId": "2ceb88f8-8299-46e2-cd4c-54d398ee8b66"
      },
      "execution_count": null,
      "outputs": [
        {
          "output_type": "execute_result",
          "data": {
            "text/plain": [
              "0"
            ]
          },
          "metadata": {},
          "execution_count": 15
        }
      ]
    },
    {
      "cell_type": "markdown",
      "source": [
        "4. check the Outgoing Call Status column by links to the Status - the result - uncompleted cells are Missed', 'Received' - fill them with Uncompleted."
      ],
      "metadata": {
        "id": "boMXMlVyF0Yl"
      }
    },
    {
      "cell_type": "code",
      "source": [
        "grouped_data_outgoing_call = calls.groupby(calls['Outgoing Call Status'].isna())['Call Status'].value_counts()\n",
        "print(grouped_data_outgoing_call)"
      ],
      "metadata": {
        "colab": {
          "base_uri": "https://localhost:8080/"
        },
        "id": "8KBISOus3U7B",
        "outputId": "aee5ff64-7a1a-4e0f-fff3-b44c83d63aa2"
      },
      "execution_count": null,
      "outputs": [
        {
          "output_type": "stream",
          "name": "stdout",
          "text": [
            "Outgoing Call Status  Call Status               \n",
            "False                 Attended Dialled              70703\n",
            "                      Unattended Dialled            16030\n",
            "                      Overdue                          60\n",
            "                      Scheduled Attended Delay         22\n",
            "                      Cancelled                        20\n",
            "                      Scheduled Unattended Delay       17\n",
            "                      Scheduled Attended               14\n",
            "                      Scheduled Unattended              6\n",
            "                      Scheduled                         3\n",
            "True                  Missed                         5922\n",
            "                      Received                       3077\n",
            "Name: count, dtype: int64\n"
          ]
        }
      ]
    },
    {
      "cell_type": "code",
      "source": [
        "def fill_outgoing_call_status(row):\n",
        "    if pd.isna(row['Outgoing Call Status']):\n",
        "        if row['Call Status'] in ['Missed', 'Received']:\n",
        "            return 'Uncompleted'\n",
        "        else:\n",
        "            return True\n",
        "    else:\n",
        "        return row['Outgoing Call Status']\n",
        "\n",
        "calls['Outgoing Call Status'] = calls.apply(fill_outgoing_call_status, axis=1)\n",
        "\n",
        "calls['Outgoing Call Status'].isna().sum()"
      ],
      "metadata": {
        "colab": {
          "base_uri": "https://localhost:8080/"
        },
        "id": "6RrxxpqX3UwM",
        "outputId": "a28b350f-62fd-433c-cbee-e7c8b44253b3"
      },
      "execution_count": null,
      "outputs": [
        {
          "output_type": "execute_result",
          "data": {
            "text/plain": [
              "0"
            ]
          },
          "metadata": {},
          "execution_count": 17
        }
      ]
    },
    {
      "cell_type": "code",
      "source": [
        "calls.info()"
      ],
      "metadata": {
        "colab": {
          "base_uri": "https://localhost:8080/"
        },
        "id": "VC0pHyc72i4H",
        "outputId": "d6821aa9-e11e-4b9a-f861-727f6bfb3ca7"
      },
      "execution_count": null,
      "outputs": [
        {
          "output_type": "stream",
          "name": "stdout",
          "text": [
            "<class 'pandas.core.frame.DataFrame'>\n",
            "RangeIndex: 95874 entries, 0 to 95873\n",
            "Data columns (total 9 columns):\n",
            " #   Column                      Non-Null Count  Dtype  \n",
            "---  ------                      --------------  -----  \n",
            " 0   Id                          95874 non-null  int64  \n",
            " 1   Call Start Time             95874 non-null  object \n",
            " 2   Call Owner Name             95874 non-null  object \n",
            " 3   CONTACTID                   91941 non-null  float64\n",
            " 4   Call Type                   95874 non-null  object \n",
            " 5   Call Duration (in seconds)  95874 non-null  float64\n",
            " 6   Call Status                 95874 non-null  object \n",
            " 7   Outgoing Call Status        95874 non-null  object \n",
            " 8   Scheduled in CRM            95874 non-null  object \n",
            "dtypes: float64(2), int64(1), object(6)\n",
            "memory usage: 6.6+ MB\n"
          ]
        }
      ]
    },
    {
      "cell_type": "markdown",
      "source": [
        "**Change the data type according to the values**"
      ],
      "metadata": {
        "id": "N2cUYcSmGkS7"
      }
    },
    {
      "cell_type": "code",
      "source": [
        "calls['Call Start Time'] = pd.to_datetime(calls['Call Start Time'], format='%d.%m.%Y %H:%M')\n",
        "\n",
        "calls['Call Duration (in seconds)'] = calls['Call Duration (in seconds)'].astype(int)\n",
        "\n",
        "calls['Scheduled in CRM'] = calls['Scheduled in CRM'].astype('bool')"
      ],
      "metadata": {
        "id": "f53SJ-g4DCFj"
      },
      "execution_count": null,
      "outputs": []
    },
    {
      "cell_type": "markdown",
      "source": [
        "**Process Contact Id**"
      ],
      "metadata": {
        "id": "jffKB4bl3x09"
      }
    },
    {
      "cell_type": "markdown",
      "source": [
        "We try to replace the missing values in the CONTACTID column with ID values from the CONTACTS table.\n",
        "\n",
        "To do this, join the calls and contacts tables, taking into account Names and Dates of creation\n",
        "Do the same with the deals table.\n",
        "The remaining values are filled with [1000 + i for i in range(1, len(null_indices) + 1)] so that they are not zeros (just in case)."
      ],
      "metadata": {
        "id": "yac4LiMlG50U"
      }
    },
    {
      "cell_type": "code",
      "source": [
        "calls['CONTACTID'].isna().sum()"
      ],
      "metadata": {
        "colab": {
          "base_uri": "https://localhost:8080/"
        },
        "id": "pnm-vFS68PFz",
        "outputId": "479fbb3a-3afd-4475-d543-da0dab33f6d9"
      },
      "execution_count": null,
      "outputs": [
        {
          "output_type": "execute_result",
          "data": {
            "text/plain": [
              "3933"
            ]
          },
          "metadata": {},
          "execution_count": 20
        }
      ]
    },
    {
      "cell_type": "code",
      "source": [
        "contacts['Created Time'] = pd.to_datetime(contacts['Created Time'], format='%d.%m.%Y %H:%M')"
      ],
      "metadata": {
        "id": "EKTTdXg8Vb5m"
      },
      "execution_count": null,
      "outputs": []
    },
    {
      "cell_type": "code",
      "source": [
        "merged_df = pd.merge(calls, contacts,\n",
        "                     how='inner',\n",
        "                     left_on=['Call Owner Name', 'Call Start Time'],\n",
        "                     right_on=['Contact Owner Name', 'Created Time'])\n",
        "\n",
        "merged_df.columns\n"
      ],
      "metadata": {
        "colab": {
          "base_uri": "https://localhost:8080/"
        },
        "id": "qRd88psY3y4Q",
        "outputId": "cec9bd8b-a6c4-47b0-d2b6-fcdff627cfe5"
      },
      "execution_count": null,
      "outputs": [
        {
          "output_type": "execute_result",
          "data": {
            "text/plain": [
              "Index(['Id_x', 'Call Start Time', 'Call Owner Name', 'CONTACTID', 'Call Type',\n",
              "       'Call Duration (in seconds)', 'Call Status', 'Outgoing Call Status',\n",
              "       'Scheduled in CRM', 'Id_y', 'Contact Owner Name', 'Created Time',\n",
              "       'Modified Time'],\n",
              "      dtype='object')"
            ]
          },
          "metadata": {},
          "execution_count": 22
        }
      ]
    },
    {
      "cell_type": "code",
      "source": [
        "calls.loc[calls['CONTACTID'].isna(), 'CONTACTID'] = merged_df['Id_y']\n",
        "\n",
        "calls['CONTACTID'].isna().sum()"
      ],
      "metadata": {
        "colab": {
          "base_uri": "https://localhost:8080/"
        },
        "id": "YxMxktmW3-lN",
        "outputId": "194c9405-b6a4-4837-d1ea-c649c83fb4ff"
      },
      "execution_count": null,
      "outputs": [
        {
          "output_type": "execute_result",
          "data": {
            "text/plain": [
              "3913"
            ]
          },
          "metadata": {},
          "execution_count": 23
        }
      ]
    },
    {
      "cell_type": "code",
      "source": [
        "deals[\"Created Time\"] = pd.to_datetime(deals[\"Created Time\"], format=\"%d.%m.%Y %H:%M\")"
      ],
      "metadata": {
        "id": "KIrcERu4WGJz"
      },
      "execution_count": null,
      "outputs": []
    },
    {
      "cell_type": "code",
      "source": [
        "merged_df_deals = pd.merge(calls, deals,\n",
        "                     how='inner',\n",
        "                     left_on=['Call Owner Name', 'Call Start Time'],\n",
        "                     right_on=['Deal Owner Name', 'Created Time'])\n",
        "\n",
        "merged_df.columns"
      ],
      "metadata": {
        "colab": {
          "base_uri": "https://localhost:8080/"
        },
        "id": "VvHq9Rn_9hXw",
        "outputId": "9b79ec4a-f570-465d-cbf2-5bb0bb7ed0f9"
      },
      "execution_count": null,
      "outputs": [
        {
          "output_type": "execute_result",
          "data": {
            "text/plain": [
              "Index(['Id_x', 'Call Start Time', 'Call Owner Name', 'CONTACTID', 'Call Type',\n",
              "       'Call Duration (in seconds)', 'Call Status', 'Outgoing Call Status',\n",
              "       'Scheduled in CRM', 'Id_y', 'Contact Owner Name', 'Created Time',\n",
              "       'Modified Time'],\n",
              "      dtype='object')"
            ]
          },
          "metadata": {},
          "execution_count": 25
        }
      ]
    },
    {
      "cell_type": "code",
      "source": [
        "calls.loc[calls['CONTACTID'].isna(), 'CONTACTID'] = merged_df_deals['Id_y']\n",
        "\n",
        "calls['CONTACTID'].isna().sum()"
      ],
      "metadata": {
        "colab": {
          "base_uri": "https://localhost:8080/"
        },
        "id": "GM0N4Qpl9hKB",
        "outputId": "ab545601-b6c3-4566-ee4e-189f41933eb4"
      },
      "execution_count": null,
      "outputs": [
        {
          "output_type": "execute_result",
          "data": {
            "text/plain": [
              "3910"
            ]
          },
          "metadata": {},
          "execution_count": 26
        }
      ]
    },
    {
      "cell_type": "code",
      "source": [
        "null_indices = calls[calls['CONTACTID'].isna()].index\n",
        "\n",
        "calls.loc[null_indices, 'CONTACTID'] = [1000 + i for i in range(1, len(null_indices) + 1)]\n",
        "\n",
        "calls['CONTACTID'].isna().sum()"
      ],
      "metadata": {
        "colab": {
          "base_uri": "https://localhost:8080/"
        },
        "id": "jaBrx5lY_CyV",
        "outputId": "7658daf6-ffeb-423d-d67f-768c6ae260ef"
      },
      "execution_count": null,
      "outputs": [
        {
          "output_type": "execute_result",
          "data": {
            "text/plain": [
              "0"
            ]
          },
          "metadata": {},
          "execution_count": 27
        }
      ]
    },
    {
      "cell_type": "code",
      "source": [
        "calls.info()"
      ],
      "metadata": {
        "colab": {
          "base_uri": "https://localhost:8080/"
        },
        "id": "I7aK8XhD4TOZ",
        "outputId": "06795f02-d02d-45fa-8127-90ca62171085"
      },
      "execution_count": null,
      "outputs": [
        {
          "output_type": "stream",
          "name": "stdout",
          "text": [
            "<class 'pandas.core.frame.DataFrame'>\n",
            "RangeIndex: 95874 entries, 0 to 95873\n",
            "Data columns (total 9 columns):\n",
            " #   Column                      Non-Null Count  Dtype         \n",
            "---  ------                      --------------  -----         \n",
            " 0   Id                          95874 non-null  int64         \n",
            " 1   Call Start Time             95874 non-null  datetime64[ns]\n",
            " 2   Call Owner Name             95874 non-null  object        \n",
            " 3   CONTACTID                   95874 non-null  float64       \n",
            " 4   Call Type                   95874 non-null  object        \n",
            " 5   Call Duration (in seconds)  95874 non-null  int64         \n",
            " 6   Call Status                 95874 non-null  object        \n",
            " 7   Outgoing Call Status        95874 non-null  object        \n",
            " 8   Scheduled in CRM            95874 non-null  bool          \n",
            "dtypes: bool(1), datetime64[ns](1), float64(1), int64(2), object(4)\n",
            "memory usage: 5.9+ MB\n"
          ]
        }
      ]
    },
    {
      "cell_type": "markdown",
      "source": [
        "# **CONTACTS**"
      ],
      "metadata": {
        "id": "GtkTPHbM4Y9g"
      }
    },
    {
      "cell_type": "markdown",
      "source": [
        "Since the data in this table has been filled in, we only change the data type Created Time (the column was converted when processing Calls)"
      ],
      "metadata": {
        "id": "tvxdWqtyIMlO"
      }
    },
    {
      "cell_type": "code",
      "source": [
        "contacts.info()"
      ],
      "metadata": {
        "colab": {
          "base_uri": "https://localhost:8080/"
        },
        "id": "Hp5W13fU4oAF",
        "outputId": "9b7e9ce6-f1a3-4a64-fe16-6112c8623ba6",
        "collapsed": true
      },
      "execution_count": null,
      "outputs": [
        {
          "output_type": "stream",
          "name": "stdout",
          "text": [
            "<class 'pandas.core.frame.DataFrame'>\n",
            "RangeIndex: 18548 entries, 0 to 18547\n",
            "Data columns (total 4 columns):\n",
            " #   Column              Non-Null Count  Dtype         \n",
            "---  ------              --------------  -----         \n",
            " 0   Id                  18548 non-null  int64         \n",
            " 1   Contact Owner Name  18548 non-null  object        \n",
            " 2   Created Time        18548 non-null  datetime64[ns]\n",
            " 3   Modified Time       18548 non-null  object        \n",
            "dtypes: datetime64[ns](1), int64(1), object(2)\n",
            "memory usage: 579.8+ KB\n"
          ]
        }
      ]
    },
    {
      "cell_type": "code",
      "source": [
        "# contacts['Created Time'] = pd.to_datetime(contacts['Created Time'], format='%d.%m.%Y %H:%M')\n",
        "contacts['Modified Time'] = pd.to_datetime(contacts['Modified Time'], format='%d.%m.%Y %H:%M')"
      ],
      "metadata": {
        "id": "fzqXStP7Ci-b"
      },
      "execution_count": null,
      "outputs": []
    },
    {
      "cell_type": "code",
      "source": [
        "contacts.info()"
      ],
      "metadata": {
        "colab": {
          "base_uri": "https://localhost:8080/"
        },
        "id": "_Au3noqlEWAT",
        "outputId": "75b80cc4-7d35-4be0-ac2b-4374a0f15133"
      },
      "execution_count": null,
      "outputs": [
        {
          "output_type": "stream",
          "name": "stdout",
          "text": [
            "<class 'pandas.core.frame.DataFrame'>\n",
            "RangeIndex: 18548 entries, 0 to 18547\n",
            "Data columns (total 4 columns):\n",
            " #   Column              Non-Null Count  Dtype         \n",
            "---  ------              --------------  -----         \n",
            " 0   Id                  18548 non-null  int64         \n",
            " 1   Contact Owner Name  18548 non-null  object        \n",
            " 2   Created Time        18548 non-null  datetime64[ns]\n",
            " 3   Modified Time       18548 non-null  datetime64[ns]\n",
            "dtypes: datetime64[ns](2), int64(1), object(1)\n",
            "memory usage: 579.8+ KB\n"
          ]
        }
      ]
    },
    {
      "cell_type": "markdown",
      "source": [
        "# **SPEND**"
      ],
      "metadata": {
        "id": "PvSbK7gx4zF2"
      }
    },
    {
      "cell_type": "markdown",
      "source": [
        "Split Campaign and Fill Campaign, AdGroup, Ad - Unknown"
      ],
      "metadata": {
        "id": "qRVJoEWaIlQK"
      }
    },
    {
      "cell_type": "code",
      "source": [
        "spend.info()"
      ],
      "metadata": {
        "colab": {
          "base_uri": "https://localhost:8080/"
        },
        "id": "wOtufwxYEwNK",
        "outputId": "83c80771-bb5c-4a7f-8ec6-1e40a8683fbd"
      },
      "execution_count": null,
      "outputs": [
        {
          "output_type": "stream",
          "name": "stdout",
          "text": [
            "<class 'pandas.core.frame.DataFrame'>\n",
            "RangeIndex: 19862 entries, 0 to 19861\n",
            "Data columns (total 8 columns):\n",
            " #   Column       Non-Null Count  Dtype         \n",
            "---  ------       --------------  -----         \n",
            " 0   Date         19862 non-null  datetime64[ns]\n",
            " 1   Source       19862 non-null  object        \n",
            " 2   Campaign     14785 non-null  object        \n",
            " 3   Impressions  19862 non-null  int64         \n",
            " 4   Spend        19862 non-null  float64       \n",
            " 5   Clicks       19862 non-null  int64         \n",
            " 6   AdGroup      13951 non-null  object        \n",
            " 7   Ad           13951 non-null  object        \n",
            "dtypes: datetime64[ns](1), float64(1), int64(2), object(4)\n",
            "memory usage: 1.2+ MB\n"
          ]
        }
      ]
    },
    {
      "cell_type": "markdown",
      "source": [
        "**separation spend['Campaign']**"
      ],
      "metadata": {
        "id": "PmV8y_CpX6GJ"
      }
    },
    {
      "cell_type": "markdown",
      "source": [
        "Split the values in the column into name and date. Separate the date into a separate column"
      ],
      "metadata": {
        "id": "CgEkqFkvYmKB"
      }
    },
    {
      "cell_type": "code",
      "source": [
        "spend['Campaign'].nunique()"
      ],
      "metadata": {
        "colab": {
          "base_uri": "https://localhost:8080/"
        },
        "id": "KgeqF-mlYPU1",
        "outputId": "75ba88ef-8e28-47f0-c5eb-75c20679b96e"
      },
      "execution_count": null,
      "outputs": [
        {
          "output_type": "execute_result",
          "data": {
            "text/plain": [
              "51"
            ]
          },
          "metadata": {},
          "execution_count": 33
        }
      ]
    },
    {
      "cell_type": "code",
      "execution_count": null,
      "metadata": {
        "collapsed": true,
        "id": "43GhVgcJ6So1"
      },
      "outputs": [],
      "source": [
        "spend['Campaign Date'] = spend['Campaign'].str.extract(r'(\\d{2}\\.\\d{2}\\.\\d{2,4})', expand=False)\n",
        "spend['Campaign Date'] = pd.to_datetime(spend['Campaign Date'], format='%d.%m.%y', errors='coerce')\n",
        "spend['Campaign'] = spend['Campaign'].str.replace(r'\\d{2}\\.\\d{2}\\.\\d{2,4}', '', regex=True)\n"
      ]
    },
    {
      "cell_type": "code",
      "execution_count": null,
      "metadata": {
        "colab": {
          "base_uri": "https://localhost:8080/"
        },
        "id": "voFzPwTf_yqJ",
        "outputId": "0539011f-cb9a-4b86-8bce-a8803bf35f82"
      },
      "outputs": [
        {
          "output_type": "execute_result",
          "data": {
            "text/plain": [
              "array(['gen_analyst_DE', 'performancemax_eng_DE', nan, 'women', 'wide_DE',\n",
              "       'interests_DE', 'recentlymoved_DE', 'LAL_DE', 'wide_com_DE',\n",
              "       'b_DE', 'youtube_shorts_DE', 'comp_search_DE',\n",
              "       'brand_search_eng_DE', 'web2408_DE', 'interests_Uxui_DE',\n",
              "       'discovery_DE', 'retargeting_DE', 'wide_gos_DE', 'wide_webinar_DE',\n",
              "       'blog2_DE', 'test_DE', 'bbo_DE', 'berlin_dd_DE', 'wide_AT',\n",
              "       'recentlymoved_AT', 'youtube_shortsin_AT', 'discovery_wide1_AT',\n",
              "       'performancemax_wide_AT', '_widde_PL', 'wide_PL',\n",
              "       'interests_WebDev_AT', 'interests_WebDev_PL', 'shorts_PL',\n",
              "       '1performancemax_wide_PL', 'recentlymoved_PL', 'women_PL',\n",
              "       'LAL_ab__PL'], dtype=object)"
            ]
          },
          "metadata": {},
          "execution_count": 35
        }
      ],
      "source": [
        "spend['Campaign'].unique()"
      ]
    },
    {
      "cell_type": "markdown",
      "source": [
        "There's one campaign left with a date, convert it.\n"
      ],
      "metadata": {
        "id": "ehvyAEfKa332"
      }
    },
    {
      "cell_type": "code",
      "source": [
        "date = pd.to_datetime('24.08.2023', format='%d.%m.%Y')\n",
        "spend.loc[spend['Campaign'] == 'web2408_DE', 'Campaign Date'] = date\n",
        "spend.loc[spend['Campaign'] == 'web2408_DE', 'Campaign'] = 'web_DE'"
      ],
      "metadata": {
        "id": "ikrcSSAxa1_F"
      },
      "execution_count": null,
      "outputs": []
    },
    {
      "cell_type": "code",
      "source": [
        "spend['Campaign'].unique()"
      ],
      "metadata": {
        "colab": {
          "base_uri": "https://localhost:8080/"
        },
        "id": "FFu9iV7CbAdX",
        "outputId": "7d094873-589a-4d8e-d028-14f50a63183b"
      },
      "execution_count": null,
      "outputs": [
        {
          "output_type": "execute_result",
          "data": {
            "text/plain": [
              "array(['gen_analyst_DE', 'performancemax_eng_DE', nan, 'women', 'wide_DE',\n",
              "       'interests_DE', 'recentlymoved_DE', 'LAL_DE', 'wide_com_DE',\n",
              "       'b_DE', 'youtube_shorts_DE', 'comp_search_DE',\n",
              "       'brand_search_eng_DE', 'web_DE', 'interests_Uxui_DE',\n",
              "       'discovery_DE', 'retargeting_DE', 'wide_gos_DE', 'wide_webinar_DE',\n",
              "       'blog2_DE', 'test_DE', 'bbo_DE', 'berlin_dd_DE', 'wide_AT',\n",
              "       'recentlymoved_AT', 'youtube_shortsin_AT', 'discovery_wide1_AT',\n",
              "       'performancemax_wide_AT', '_widde_PL', 'wide_PL',\n",
              "       'interests_WebDev_AT', 'interests_WebDev_PL', 'shorts_PL',\n",
              "       '1performancemax_wide_PL', 'recentlymoved_PL', 'women_PL',\n",
              "       'LAL_ab__PL'], dtype=object)"
            ]
          },
          "metadata": {},
          "execution_count": 37
        }
      ]
    },
    {
      "cell_type": "code",
      "source": [
        "spend['Campaign'].nunique()"
      ],
      "metadata": {
        "colab": {
          "base_uri": "https://localhost:8080/"
        },
        "id": "TujVwzSWb1OU",
        "outputId": "38cc31cc-8198-416e-f257-c82917a0e329"
      },
      "execution_count": null,
      "outputs": [
        {
          "output_type": "execute_result",
          "data": {
            "text/plain": [
              "36"
            ]
          },
          "metadata": {},
          "execution_count": 38
        }
      ]
    },
    {
      "cell_type": "code",
      "source": [
        "columns_to_fill_spend = ['Campaign',\n",
        "                          'AdGroup',\n",
        "                         'Ad'\n",
        "                        ]\n",
        "\n",
        "spend.loc[:, columns_to_fill_spend] = spend.loc[:, columns_to_fill_spend].fillna('Unknown')"
      ],
      "metadata": {
        "id": "N3XkRvwsBHKx"
      },
      "execution_count": null,
      "outputs": []
    },
    {
      "cell_type": "code",
      "source": [
        "spend.info()"
      ],
      "metadata": {
        "colab": {
          "base_uri": "https://localhost:8080/"
        },
        "id": "x-V4rkoe5Kzi",
        "outputId": "782bb6c4-cbcd-4b53-90fe-bc9ccf9096fa"
      },
      "execution_count": null,
      "outputs": [
        {
          "output_type": "stream",
          "name": "stdout",
          "text": [
            "<class 'pandas.core.frame.DataFrame'>\n",
            "RangeIndex: 19862 entries, 0 to 19861\n",
            "Data columns (total 9 columns):\n",
            " #   Column         Non-Null Count  Dtype         \n",
            "---  ------         --------------  -----         \n",
            " 0   Date           19862 non-null  datetime64[ns]\n",
            " 1   Source         19862 non-null  object        \n",
            " 2   Campaign       19862 non-null  object        \n",
            " 3   Impressions    19862 non-null  int64         \n",
            " 4   Spend          19862 non-null  float64       \n",
            " 5   Clicks         19862 non-null  int64         \n",
            " 6   AdGroup        19862 non-null  object        \n",
            " 7   Ad             19862 non-null  object        \n",
            " 8   Campaign Date  9815 non-null   datetime64[ns]\n",
            "dtypes: datetime64[ns](2), float64(1), int64(2), object(4)\n",
            "memory usage: 1.4+ MB\n"
          ]
        }
      ]
    },
    {
      "cell_type": "markdown",
      "source": [
        "# **DEALS**"
      ],
      "metadata": {
        "id": "71j4I2DP5Sxt"
      }
    },
    {
      "cell_type": "code",
      "source": [
        "deals.info()"
      ],
      "metadata": {
        "colab": {
          "base_uri": "https://localhost:8080/"
        },
        "id": "Mqueq1d1GqkF",
        "outputId": "a1c1b3e9-9a0a-494d-b08b-baf5460d1f7e"
      },
      "execution_count": null,
      "outputs": [
        {
          "output_type": "stream",
          "name": "stdout",
          "text": [
            "<class 'pandas.core.frame.DataFrame'>\n",
            "RangeIndex: 21592 entries, 0 to 21591\n",
            "Data columns (total 23 columns):\n",
            " #   Column               Non-Null Count  Dtype         \n",
            "---  ------               --------------  -----         \n",
            " 0   Id                   21590 non-null  float64       \n",
            " 1   Deal Owner Name      21561 non-null  object        \n",
            " 2   Closing Date         14643 non-null  object        \n",
            " 3   Quality              19338 non-null  object        \n",
            " 4   Stage                21590 non-null  object        \n",
            " 5   Lost Reason          16122 non-null  object        \n",
            " 6   Page                 21590 non-null  object        \n",
            " 7   Campaign             16066 non-null  object        \n",
            " 8   SLA                  15533 non-null  object        \n",
            " 9   Content              14146 non-null  object        \n",
            " 10  Term                 12453 non-null  object        \n",
            " 11  Source               21590 non-null  object        \n",
            " 12  Payment Type         496 non-null    object        \n",
            " 13  Product              3592 non-null   object        \n",
            " 14  Education Type       3300 non-null   object        \n",
            " 15  Created Time         21590 non-null  datetime64[ns]\n",
            " 16  Course duration      3587 non-null   float64       \n",
            " 17  Months of study      840 non-null    float64       \n",
            " 18  Initial Amount Paid  4165 non-null   object        \n",
            " 19  Offer Total Amount   4185 non-null   object        \n",
            " 20  Contact Name         21529 non-null  float64       \n",
            " 21  City                 2511 non-null   object        \n",
            " 22  Level of Deutsch     1251 non-null   object        \n",
            "dtypes: datetime64[ns](1), float64(4), object(18)\n",
            "memory usage: 3.8+ MB\n"
          ]
        }
      ]
    },
    {
      "cell_type": "markdown",
      "source": [
        "According to the data 2 values were not filled in Id.\n",
        "After checking these values it was found out that the rows with unfilled Id are empty, so delete these rows"
      ],
      "metadata": {
        "id": "klPLInTcI60T"
      }
    },
    {
      "cell_type": "code",
      "source": [
        "deals[deals['Id'].isna()]"
      ],
      "metadata": {
        "colab": {
          "base_uri": "https://localhost:8080/",
          "height": 196
        },
        "id": "ALO8oyGMJzbk",
        "outputId": "9e02e592-cf8b-4990-e631-d319c1441022"
      },
      "execution_count": null,
      "outputs": [
        {
          "output_type": "execute_result",
          "data": {
            "text/plain": [
              "       Id Deal Owner Name Closing Date Quality Stage Lost Reason Page  \\\n",
              "21590 NaN             NaN          NaN     NaN   NaN         NaN  NaN   \n",
              "21591 NaN             NaN          NaN     NaN   NaN         NaN  NaN   \n",
              "\n",
              "      Campaign  SLA Content  ... Product Education Type Created Time  \\\n",
              "21590      NaN  NaN     NaN  ...     NaN            NaN          NaT   \n",
              "21591      NaN  NaN     NaN  ...     NaN          #REF!          NaT   \n",
              "\n",
              "      Course duration Months of study Initial Amount Paid  Offer Total Amount  \\\n",
              "21590             NaN             NaN                 NaN                 NaN   \n",
              "21591             NaN             NaN                 NaN                 NaN   \n",
              "\n",
              "       Contact Name City Level of Deutsch  \n",
              "21590           NaN  NaN              NaN  \n",
              "21591           NaN  NaN              NaN  \n",
              "\n",
              "[2 rows x 23 columns]"
            ],
            "text/html": [
              "\n",
              "  <div id=\"df-440e5e92-410a-44e0-b556-2931bf0d4462\" class=\"colab-df-container\">\n",
              "    <div>\n",
              "<style scoped>\n",
              "    .dataframe tbody tr th:only-of-type {\n",
              "        vertical-align: middle;\n",
              "    }\n",
              "\n",
              "    .dataframe tbody tr th {\n",
              "        vertical-align: top;\n",
              "    }\n",
              "\n",
              "    .dataframe thead th {\n",
              "        text-align: right;\n",
              "    }\n",
              "</style>\n",
              "<table border=\"1\" class=\"dataframe\">\n",
              "  <thead>\n",
              "    <tr style=\"text-align: right;\">\n",
              "      <th></th>\n",
              "      <th>Id</th>\n",
              "      <th>Deal Owner Name</th>\n",
              "      <th>Closing Date</th>\n",
              "      <th>Quality</th>\n",
              "      <th>Stage</th>\n",
              "      <th>Lost Reason</th>\n",
              "      <th>Page</th>\n",
              "      <th>Campaign</th>\n",
              "      <th>SLA</th>\n",
              "      <th>Content</th>\n",
              "      <th>...</th>\n",
              "      <th>Product</th>\n",
              "      <th>Education Type</th>\n",
              "      <th>Created Time</th>\n",
              "      <th>Course duration</th>\n",
              "      <th>Months of study</th>\n",
              "      <th>Initial Amount Paid</th>\n",
              "      <th>Offer Total Amount</th>\n",
              "      <th>Contact Name</th>\n",
              "      <th>City</th>\n",
              "      <th>Level of Deutsch</th>\n",
              "    </tr>\n",
              "  </thead>\n",
              "  <tbody>\n",
              "    <tr>\n",
              "      <th>21590</th>\n",
              "      <td>NaN</td>\n",
              "      <td>NaN</td>\n",
              "      <td>NaN</td>\n",
              "      <td>NaN</td>\n",
              "      <td>NaN</td>\n",
              "      <td>NaN</td>\n",
              "      <td>NaN</td>\n",
              "      <td>NaN</td>\n",
              "      <td>NaN</td>\n",
              "      <td>NaN</td>\n",
              "      <td>...</td>\n",
              "      <td>NaN</td>\n",
              "      <td>NaN</td>\n",
              "      <td>NaT</td>\n",
              "      <td>NaN</td>\n",
              "      <td>NaN</td>\n",
              "      <td>NaN</td>\n",
              "      <td>NaN</td>\n",
              "      <td>NaN</td>\n",
              "      <td>NaN</td>\n",
              "      <td>NaN</td>\n",
              "    </tr>\n",
              "    <tr>\n",
              "      <th>21591</th>\n",
              "      <td>NaN</td>\n",
              "      <td>NaN</td>\n",
              "      <td>NaN</td>\n",
              "      <td>NaN</td>\n",
              "      <td>NaN</td>\n",
              "      <td>NaN</td>\n",
              "      <td>NaN</td>\n",
              "      <td>NaN</td>\n",
              "      <td>NaN</td>\n",
              "      <td>NaN</td>\n",
              "      <td>...</td>\n",
              "      <td>NaN</td>\n",
              "      <td>#REF!</td>\n",
              "      <td>NaT</td>\n",
              "      <td>NaN</td>\n",
              "      <td>NaN</td>\n",
              "      <td>NaN</td>\n",
              "      <td>NaN</td>\n",
              "      <td>NaN</td>\n",
              "      <td>NaN</td>\n",
              "      <td>NaN</td>\n",
              "    </tr>\n",
              "  </tbody>\n",
              "</table>\n",
              "<p>2 rows × 23 columns</p>\n",
              "</div>\n",
              "    <div class=\"colab-df-buttons\">\n",
              "\n",
              "  <div class=\"colab-df-container\">\n",
              "    <button class=\"colab-df-convert\" onclick=\"convertToInteractive('df-440e5e92-410a-44e0-b556-2931bf0d4462')\"\n",
              "            title=\"Convert this dataframe to an interactive table.\"\n",
              "            style=\"display:none;\">\n",
              "\n",
              "  <svg xmlns=\"http://www.w3.org/2000/svg\" height=\"24px\" viewBox=\"0 -960 960 960\">\n",
              "    <path d=\"M120-120v-720h720v720H120Zm60-500h600v-160H180v160Zm220 220h160v-160H400v160Zm0 220h160v-160H400v160ZM180-400h160v-160H180v160Zm440 0h160v-160H620v160ZM180-180h160v-160H180v160Zm440 0h160v-160H620v160Z\"/>\n",
              "  </svg>\n",
              "    </button>\n",
              "\n",
              "  <style>\n",
              "    .colab-df-container {\n",
              "      display:flex;\n",
              "      gap: 12px;\n",
              "    }\n",
              "\n",
              "    .colab-df-convert {\n",
              "      background-color: #E8F0FE;\n",
              "      border: none;\n",
              "      border-radius: 50%;\n",
              "      cursor: pointer;\n",
              "      display: none;\n",
              "      fill: #1967D2;\n",
              "      height: 32px;\n",
              "      padding: 0 0 0 0;\n",
              "      width: 32px;\n",
              "    }\n",
              "\n",
              "    .colab-df-convert:hover {\n",
              "      background-color: #E2EBFA;\n",
              "      box-shadow: 0px 1px 2px rgba(60, 64, 67, 0.3), 0px 1px 3px 1px rgba(60, 64, 67, 0.15);\n",
              "      fill: #174EA6;\n",
              "    }\n",
              "\n",
              "    .colab-df-buttons div {\n",
              "      margin-bottom: 4px;\n",
              "    }\n",
              "\n",
              "    [theme=dark] .colab-df-convert {\n",
              "      background-color: #3B4455;\n",
              "      fill: #D2E3FC;\n",
              "    }\n",
              "\n",
              "    [theme=dark] .colab-df-convert:hover {\n",
              "      background-color: #434B5C;\n",
              "      box-shadow: 0px 1px 3px 1px rgba(0, 0, 0, 0.15);\n",
              "      filter: drop-shadow(0px 1px 2px rgba(0, 0, 0, 0.3));\n",
              "      fill: #FFFFFF;\n",
              "    }\n",
              "  </style>\n",
              "\n",
              "    <script>\n",
              "      const buttonEl =\n",
              "        document.querySelector('#df-440e5e92-410a-44e0-b556-2931bf0d4462 button.colab-df-convert');\n",
              "      buttonEl.style.display =\n",
              "        google.colab.kernel.accessAllowed ? 'block' : 'none';\n",
              "\n",
              "      async function convertToInteractive(key) {\n",
              "        const element = document.querySelector('#df-440e5e92-410a-44e0-b556-2931bf0d4462');\n",
              "        const dataTable =\n",
              "          await google.colab.kernel.invokeFunction('convertToInteractive',\n",
              "                                                    [key], {});\n",
              "        if (!dataTable) return;\n",
              "\n",
              "        const docLinkHtml = 'Like what you see? Visit the ' +\n",
              "          '<a target=\"_blank\" href=https://colab.research.google.com/notebooks/data_table.ipynb>data table notebook</a>'\n",
              "          + ' to learn more about interactive tables.';\n",
              "        element.innerHTML = '';\n",
              "        dataTable['output_type'] = 'display_data';\n",
              "        await google.colab.output.renderOutput(dataTable, element);\n",
              "        const docLink = document.createElement('div');\n",
              "        docLink.innerHTML = docLinkHtml;\n",
              "        element.appendChild(docLink);\n",
              "      }\n",
              "    </script>\n",
              "  </div>\n",
              "\n",
              "\n",
              "<div id=\"df-375e4252-3266-4b73-884a-42fe5856426a\">\n",
              "  <button class=\"colab-df-quickchart\" onclick=\"quickchart('df-375e4252-3266-4b73-884a-42fe5856426a')\"\n",
              "            title=\"Suggest charts\"\n",
              "            style=\"display:none;\">\n",
              "\n",
              "<svg xmlns=\"http://www.w3.org/2000/svg\" height=\"24px\"viewBox=\"0 0 24 24\"\n",
              "     width=\"24px\">\n",
              "    <g>\n",
              "        <path d=\"M19 3H5c-1.1 0-2 .9-2 2v14c0 1.1.9 2 2 2h14c1.1 0 2-.9 2-2V5c0-1.1-.9-2-2-2zM9 17H7v-7h2v7zm4 0h-2V7h2v10zm4 0h-2v-4h2v4z\"/>\n",
              "    </g>\n",
              "</svg>\n",
              "  </button>\n",
              "\n",
              "<style>\n",
              "  .colab-df-quickchart {\n",
              "      --bg-color: #E8F0FE;\n",
              "      --fill-color: #1967D2;\n",
              "      --hover-bg-color: #E2EBFA;\n",
              "      --hover-fill-color: #174EA6;\n",
              "      --disabled-fill-color: #AAA;\n",
              "      --disabled-bg-color: #DDD;\n",
              "  }\n",
              "\n",
              "  [theme=dark] .colab-df-quickchart {\n",
              "      --bg-color: #3B4455;\n",
              "      --fill-color: #D2E3FC;\n",
              "      --hover-bg-color: #434B5C;\n",
              "      --hover-fill-color: #FFFFFF;\n",
              "      --disabled-bg-color: #3B4455;\n",
              "      --disabled-fill-color: #666;\n",
              "  }\n",
              "\n",
              "  .colab-df-quickchart {\n",
              "    background-color: var(--bg-color);\n",
              "    border: none;\n",
              "    border-radius: 50%;\n",
              "    cursor: pointer;\n",
              "    display: none;\n",
              "    fill: var(--fill-color);\n",
              "    height: 32px;\n",
              "    padding: 0;\n",
              "    width: 32px;\n",
              "  }\n",
              "\n",
              "  .colab-df-quickchart:hover {\n",
              "    background-color: var(--hover-bg-color);\n",
              "    box-shadow: 0 1px 2px rgba(60, 64, 67, 0.3), 0 1px 3px 1px rgba(60, 64, 67, 0.15);\n",
              "    fill: var(--button-hover-fill-color);\n",
              "  }\n",
              "\n",
              "  .colab-df-quickchart-complete:disabled,\n",
              "  .colab-df-quickchart-complete:disabled:hover {\n",
              "    background-color: var(--disabled-bg-color);\n",
              "    fill: var(--disabled-fill-color);\n",
              "    box-shadow: none;\n",
              "  }\n",
              "\n",
              "  .colab-df-spinner {\n",
              "    border: 2px solid var(--fill-color);\n",
              "    border-color: transparent;\n",
              "    border-bottom-color: var(--fill-color);\n",
              "    animation:\n",
              "      spin 1s steps(1) infinite;\n",
              "  }\n",
              "\n",
              "  @keyframes spin {\n",
              "    0% {\n",
              "      border-color: transparent;\n",
              "      border-bottom-color: var(--fill-color);\n",
              "      border-left-color: var(--fill-color);\n",
              "    }\n",
              "    20% {\n",
              "      border-color: transparent;\n",
              "      border-left-color: var(--fill-color);\n",
              "      border-top-color: var(--fill-color);\n",
              "    }\n",
              "    30% {\n",
              "      border-color: transparent;\n",
              "      border-left-color: var(--fill-color);\n",
              "      border-top-color: var(--fill-color);\n",
              "      border-right-color: var(--fill-color);\n",
              "    }\n",
              "    40% {\n",
              "      border-color: transparent;\n",
              "      border-right-color: var(--fill-color);\n",
              "      border-top-color: var(--fill-color);\n",
              "    }\n",
              "    60% {\n",
              "      border-color: transparent;\n",
              "      border-right-color: var(--fill-color);\n",
              "    }\n",
              "    80% {\n",
              "      border-color: transparent;\n",
              "      border-right-color: var(--fill-color);\n",
              "      border-bottom-color: var(--fill-color);\n",
              "    }\n",
              "    90% {\n",
              "      border-color: transparent;\n",
              "      border-bottom-color: var(--fill-color);\n",
              "    }\n",
              "  }\n",
              "</style>\n",
              "\n",
              "  <script>\n",
              "    async function quickchart(key) {\n",
              "      const quickchartButtonEl =\n",
              "        document.querySelector('#' + key + ' button');\n",
              "      quickchartButtonEl.disabled = true;  // To prevent multiple clicks.\n",
              "      quickchartButtonEl.classList.add('colab-df-spinner');\n",
              "      try {\n",
              "        const charts = await google.colab.kernel.invokeFunction(\n",
              "            'suggestCharts', [key], {});\n",
              "      } catch (error) {\n",
              "        console.error('Error during call to suggestCharts:', error);\n",
              "      }\n",
              "      quickchartButtonEl.classList.remove('colab-df-spinner');\n",
              "      quickchartButtonEl.classList.add('colab-df-quickchart-complete');\n",
              "    }\n",
              "    (() => {\n",
              "      let quickchartButtonEl =\n",
              "        document.querySelector('#df-375e4252-3266-4b73-884a-42fe5856426a button');\n",
              "      quickchartButtonEl.style.display =\n",
              "        google.colab.kernel.accessAllowed ? 'block' : 'none';\n",
              "    })();\n",
              "  </script>\n",
              "</div>\n",
              "\n",
              "    </div>\n",
              "  </div>\n"
            ],
            "application/vnd.google.colaboratory.intrinsic+json": {
              "type": "dataframe"
            }
          },
          "metadata": {},
          "execution_count": 42
        }
      ]
    },
    {
      "cell_type": "code",
      "source": [
        "deals.dropna(subset=['Id'], inplace=True)\n",
        "print(deals['Id'].isna().sum())"
      ],
      "metadata": {
        "colab": {
          "base_uri": "https://localhost:8080/"
        },
        "id": "LYXBh6uZJ_6d",
        "outputId": "f2d1e3f1-f25d-407f-81ec-4be1212f4b47"
      },
      "execution_count": null,
      "outputs": [
        {
          "output_type": "stream",
          "name": "stdout",
          "text": [
            "0\n"
          ]
        }
      ]
    },
    {
      "cell_type": "markdown",
      "metadata": {
        "id": "xPhaF65l6tJr"
      },
      "source": [
        "**separation deals['Campaign']**"
      ]
    },
    {
      "cell_type": "markdown",
      "source": [
        "Split the values in the column into name and date. Separate the date into a separate column"
      ],
      "metadata": {
        "id": "U5GAoAh1ZRn4"
      }
    },
    {
      "cell_type": "code",
      "execution_count": null,
      "metadata": {
        "colab": {
          "base_uri": "https://localhost:8080/"
        },
        "id": "3VuaqZzc9xlq",
        "outputId": "bcbed5d3-a5b6-4e00-d83a-b0e846dd9821"
      },
      "outputs": [
        {
          "output_type": "execute_result",
          "data": {
            "text/plain": [
              "154"
            ]
          },
          "metadata": {},
          "execution_count": 44
        }
      ],
      "source": [
        "deals['Campaign'].nunique()"
      ]
    },
    {
      "cell_type": "code",
      "execution_count": null,
      "metadata": {
        "collapsed": true,
        "id": "LtmQ7cv46S2h"
      },
      "outputs": [],
      "source": [
        "deals['Campaign Date'] = deals['Campaign'].str.extract(r'(\\d{2}\\.\\d{2}\\.\\d{2,4})', expand=False)\n",
        "deals['Campaign Date'] = pd.to_datetime(deals['Campaign Date'], format='%d.%m.%y', errors='coerce')\n",
        "deals['Campaign'] = deals['Campaign'].str.replace(r'\\d{2}\\.\\d{2}\\.\\d{2,4}', '', regex=True)\n"
      ]
    },
    {
      "cell_type": "code",
      "source": [
        "deals['Campaign'].unique()"
      ],
      "metadata": {
        "colab": {
          "base_uri": "https://localhost:8080/"
        },
        "id": "gVy8tC_ZVAAa",
        "outputId": "f3d7f010-cd4c-4e90-9971-3bf38e89b548"
      },
      "execution_count": null,
      "outputs": [
        {
          "output_type": "execute_result",
          "data": {
            "text/plain": [
              "array(['women', nan, 'engwien_AT', 'recentlymoved_DE', 'discovery_DE',\n",
              "       'youtube_shorts_DE', 'brand_search_eng_DE', '1406start',\n",
              "       'interests_DE', 'performancemax_eng_DE', 'wide_DE', '1006start',\n",
              "       'retargeting_DE', 'germany_DE', 'performancemax_wide_AT', 'LAL_DE',\n",
              "       'webinar1906', 'germania_DE', 'blog_DE', 'blog2_DE', 'wide_AT',\n",
              "       'Jobs_germany_DE', '2005_Lost_DE', 'uk_DE', 'wide_webinar_DE',\n",
              "       'Akademia', 'BloggerIvan', 'Genie_DE', 'Live_DE', '1706_DE',\n",
              "       'performancemax_digitalmarkt_ru_DE', 'interests_Uxui_DE',\n",
              "       '5555_DE', 'ASA_de_DE', '2905start', 'webinar1604',\n",
              "       'bloggerfrai_DE', 'bloggerdr_DE', 'Trigger_DE', 'Bloggerel_DE',\n",
              "       'Forum_DE', 'Consult_DE', 'work_DE', 'Bolgspeak_DE', 'tyk_DE',\n",
              "       'of_DE', 'Berlin_DE', 'Markt_DE', 'BloggerShina_DE',\n",
              "       'berlin_dd_DE', 'Relocat_DE', 'col_DE', 'Blogff_DE', 'eha_DE',\n",
              "       'jet_DE', 'test_DE', '1005start', 'workingin_DE', 'bbo_DE',\n",
              "       'Kak_PL', 'price_DE', 'hb_DE', '1004start', 'b_DE', 'uk12_AT',\n",
              "       'ggg10_DE', 'Dis_DE', '1performancemax_wide_PL', 'wide_PL',\n",
              "       'Bloggerperr_DE', '_widde_PL', 'karta_DE', 'chat_DE', 'ineng_DE',\n",
              "       '2004start', 'discovery_wide1_AT', 'women_PL', 'LAL_ab__PL',\n",
              "       'youtube_shortsin_AT', 'Bloggernina_DE', 'interests_WebDev_PL',\n",
              "       'wa_PL', 'sushechka_PL', 'forum_DE', 'mu_DE', 'work_wr', 'domain',\n",
              "       'liveberlin_DE', 'warsaw_PL', '1704start', 'yo_DE', 'potsdam',\n",
              "       'anastasia_de_DE', 'pl_com', 'magda_DE', 'PL_life', 'blog_de_DE',\n",
              "       'web8_DE', 'LOST_de', 'Blogger_snezh_DE', 'interests_WebDev_AT',\n",
              "       'shorts_PL', 'mail_DE', 'Aussiedler_DE', 'mail_3', 'talav_DE',\n",
              "       'berlin_DE', 'web1312_DE', 'BVRE', 'referral', 'wide_gos_DE',\n",
              "       'euro_DE', 'maria_DE', 'hanna', '29.11start', 'nina', 'ruslana_DE',\n",
              "       'web2211_DE', 'web2311_DE', 'web2408_DE', 'gen_analyst_DE',\n",
              "       '26.10start', 'podslush_DE', 'bf_DE', 'women_DE', 'adv_DE',\n",
              "       'anuta_DE', 'web2410_DE', 'podrugi_DE', 'pishet_DE',\n",
              "       '11.10_prizes_DE', 'nochtum_DE', 'clever_DE', 'hands_DE',\n",
              "       'arina_DE', 'grad_DE', 'mailreg_DE', 'webanons', 'welt_DE',\n",
              "       'marue_DE', 'comp_search_DE', 'lviv_DE', '2day_DE', 'wide_com_DE'],\n",
              "      dtype=object)"
            ]
          },
          "metadata": {},
          "execution_count": 46
        }
      ]
    },
    {
      "cell_type": "markdown",
      "source": [
        "Since the remaining values are dd.mm, we will extract these dates as well. Given that the range of dates on this data - April 2023 - June 2024, we can assume that the campaigns that were in the period January-March, it is 2024, the rest of 2023 (allow the error April-June)"
      ],
      "metadata": {
        "id": "UoHAQuZwVQvE"
      }
    },
    {
      "cell_type": "code",
      "source": [
        "deals['Campaign Date 2'] = deals['Campaign'].str.extract(r'(\\d{4}|\\d{2}\\.\\d{2})', expand=False)\n",
        "\n",
        "def correct_year(date):\n",
        "    if isinstance(date, str):\n",
        "        if len(date) == 4:\n",
        "            day, month = date[:2], date[2:]\n",
        "            if int(month) < 4:\n",
        "                return f\"{day}.{month}.24\"\n",
        "            else:\n",
        "                return f\"{day}.{month}.23\"\n",
        "        elif len(date) == 5:\n",
        "            day, month = date.split('.')\n",
        "            if int(month) < 4:\n",
        "                return f\"{day}.{month}.24\"\n",
        "            else:\n",
        "                return f\"{day}.{month}.23\"\n",
        "    return date\n",
        "\n",
        "deals['Campaign Date 2'] = deals['Campaign Date 2'].astype(str)\n",
        "deals['Campaign Date 2'] = deals['Campaign Date 2'].apply(correct_year)\n",
        "\n",
        "deals['Campaign Date 2'] = pd.to_datetime(deals['Campaign Date 2'], format='%d.%m.%y', errors='coerce')\n",
        "\n",
        "deals['Campaign Date'] = deals['Campaign Date'].combine_first(deals['Campaign Date 2'])\n",
        "\n",
        "deals = deals.drop('Campaign Date 2', axis=1)\n",
        "\n",
        "deals['Campaign'] = deals['Campaign'].str.replace(r'\\d{1,2}\\.\\d{1,2}\\.\\d{4}|\\d{4}|\\d{1,2}\\.\\d{1,2}', '', regex=True)"
      ],
      "metadata": {
        "id": "oGm7UYK78t0x"
      },
      "execution_count": null,
      "outputs": []
    },
    {
      "cell_type": "code",
      "source": [
        "deals['Campaign'].unique()"
      ],
      "metadata": {
        "colab": {
          "base_uri": "https://localhost:8080/"
        },
        "id": "HLei_qkOWdNa",
        "outputId": "78f2b82e-8abf-4c15-d7f2-2fc7352bd06f"
      },
      "execution_count": null,
      "outputs": [
        {
          "output_type": "execute_result",
          "data": {
            "text/plain": [
              "array(['women', nan, 'engwien_AT', 'recentlymoved_DE', 'discovery_DE',\n",
              "       'youtube_shorts_DE', 'brand_search_eng_DE', 'start',\n",
              "       'interests_DE', 'performancemax_eng_DE', 'wide_DE',\n",
              "       'retargeting_DE', 'germany_DE', 'performancemax_wide_AT', 'LAL_DE',\n",
              "       'webinar', 'germania_DE', 'blog_DE', 'blog2_DE', 'wide_AT',\n",
              "       'Jobs_germany_DE', '_Lost_DE', 'uk_DE', 'wide_webinar_DE',\n",
              "       'Akademia', 'BloggerIvan', 'Genie_DE', 'Live_DE', '_DE',\n",
              "       'performancemax_digitalmarkt_ru_DE', 'interests_Uxui_DE',\n",
              "       'ASA_de_DE', 'bloggerfrai_DE', 'bloggerdr_DE', 'Trigger_DE',\n",
              "       'Bloggerel_DE', 'Forum_DE', 'Consult_DE', 'work_DE',\n",
              "       'Bolgspeak_DE', 'tyk_DE', 'of_DE', 'Berlin_DE', 'Markt_DE',\n",
              "       'BloggerShina_DE', 'berlin_dd_DE', 'Relocat_DE', 'col_DE',\n",
              "       'Blogff_DE', 'eha_DE', 'jet_DE', 'test_DE', 'workingin_DE',\n",
              "       'bbo_DE', 'Kak_PL', 'price_DE', 'hb_DE', 'b_DE', 'uk12_AT',\n",
              "       'ggg10_DE', 'Dis_DE', '1performancemax_wide_PL', 'wide_PL',\n",
              "       'Bloggerperr_DE', '_widde_PL', 'karta_DE', 'chat_DE', 'ineng_DE',\n",
              "       'discovery_wide1_AT', 'women_PL', 'LAL_ab__PL',\n",
              "       'youtube_shortsin_AT', 'Bloggernina_DE', 'interests_WebDev_PL',\n",
              "       'wa_PL', 'sushechka_PL', 'forum_DE', 'mu_DE', 'work_wr', 'domain',\n",
              "       'liveberlin_DE', 'warsaw_PL', 'yo_DE', 'potsdam',\n",
              "       'anastasia_de_DE', 'pl_com', 'magda_DE', 'PL_life', 'blog_de_DE',\n",
              "       'web8_DE', 'LOST_de', 'Blogger_snezh_DE', 'interests_WebDev_AT',\n",
              "       'shorts_PL', 'mail_DE', 'Aussiedler_DE', 'mail_3', 'talav_DE',\n",
              "       'berlin_DE', 'web_DE', 'BVRE', 'referral', 'wide_gos_DE',\n",
              "       'euro_DE', 'maria_DE', 'hanna', 'nina', 'ruslana_DE',\n",
              "       'gen_analyst_DE', 'podslush_DE', 'bf_DE', 'women_DE', 'adv_DE',\n",
              "       'anuta_DE', 'podrugi_DE', 'pishet_DE', '_prizes_DE', 'nochtum_DE',\n",
              "       'clever_DE', 'hands_DE', 'arina_DE', 'grad_DE', 'mailreg_DE',\n",
              "       'webanons', 'welt_DE', 'marue_DE', 'comp_search_DE', 'lviv_DE',\n",
              "       '2day_DE', 'wide_com_DE'], dtype=object)"
            ]
          },
          "metadata": {},
          "execution_count": 48
        }
      ]
    },
    {
      "cell_type": "code",
      "execution_count": null,
      "metadata": {
        "colab": {
          "base_uri": "https://localhost:8080/"
        },
        "id": "lzm8-2yyJx18",
        "outputId": "cdfc8bbf-1e9f-4bec-cdf4-de0a1d054d82"
      },
      "outputs": [
        {
          "output_type": "execute_result",
          "data": {
            "text/plain": [
              "129"
            ]
          },
          "metadata": {},
          "execution_count": 49
        }
      ],
      "source": [
        "deals['Campaign'].nunique()"
      ]
    },
    {
      "cell_type": "markdown",
      "source": [
        "Replacing missing values in categorical columns - Unknown.\n",
        "\n",
        "I checked the blank cells for Course duration and basically, if Product is not filled, then Course duration is not filled, but there are 2 exceptions. It could be put by analogy, but these Product is nowhere Course duration. Therefore, we don't fill it in."
      ],
      "metadata": {
        "id": "VGHAwHCHTxok"
      }
    },
    {
      "cell_type": "code",
      "source": [
        "columns_to_fill = ['Deal Owner Name',\n",
        "                   'Quality',\n",
        "                   'Lost Reason',\n",
        "                   'Campaign',\n",
        "                   'Content',\n",
        "                   'Term',\n",
        "                   'Payment Type',\n",
        "                   'Product',\n",
        "                   'Education Type',\n",
        "                   'City',\n",
        "                   'Level of Deutsch'\n",
        "                   ]\n",
        "\n",
        "deals[columns_to_fill] = deals[columns_to_fill].fillna('Unknown')\n"
      ],
      "metadata": {
        "id": "1IouDTfiot2x",
        "collapsed": true
      },
      "execution_count": null,
      "outputs": []
    },
    {
      "cell_type": "code",
      "source": [
        "deals.loc[deals['City'] == '-', 'City'] = 'Unknown'\n",
        "deals.loc[deals['City'] == '-', 'City'].sum()"
      ],
      "metadata": {
        "colab": {
          "base_uri": "https://localhost:8080/"
        },
        "id": "FQAVL_b7GTm4",
        "outputId": "67d0faf1-86fe-4472-9cb0-e19d20e30637"
      },
      "execution_count": null,
      "outputs": [
        {
          "output_type": "execute_result",
          "data": {
            "text/plain": [
              "0"
            ]
          },
          "metadata": {},
          "execution_count": 51
        }
      ]
    },
    {
      "cell_type": "markdown",
      "source": [
        "**Contact Name**"
      ],
      "metadata": {
        "id": "EQE2qwza25bN"
      }
    },
    {
      "cell_type": "markdown",
      "source": [
        "Contact Name in this table is Id, so we try to fill in the missing values from the tables contacts and calls\n",
        "\n",
        "The values that are left unfilled are filled in - [2000 + i for i in range(1, len(null_indices_d) + 1)]."
      ],
      "metadata": {
        "id": "D1MmVWPSJ1sA"
      }
    },
    {
      "cell_type": "code",
      "source": [
        "deals['Contact Name'].isna().sum()"
      ],
      "metadata": {
        "colab": {
          "base_uri": "https://localhost:8080/"
        },
        "outputId": "ce06796f-e1a1-446f-a92c-34cea818c3eb",
        "id": "f1b0QCPc25bW"
      },
      "execution_count": null,
      "outputs": [
        {
          "output_type": "execute_result",
          "data": {
            "text/plain": [
              "61"
            ]
          },
          "metadata": {},
          "execution_count": 52
        }
      ]
    },
    {
      "cell_type": "code",
      "source": [
        "merged_deals_id = pd.merge(deals, contacts,\n",
        "                           how='inner',\n",
        "                           left_on=['Deal Owner Name', 'Created Time'],\n",
        "                           right_on=['Contact Owner Name', 'Created Time'])\n",
        "\n",
        "merged_deals_id.columns"
      ],
      "metadata": {
        "colab": {
          "base_uri": "https://localhost:8080/"
        },
        "outputId": "2e13672e-60d7-4e0c-dec3-369f241225d7",
        "collapsed": true,
        "id": "U1SN7Dbv25bX"
      },
      "execution_count": null,
      "outputs": [
        {
          "output_type": "execute_result",
          "data": {
            "text/plain": [
              "Index(['Id_x', 'Deal Owner Name', 'Closing Date', 'Quality', 'Stage',\n",
              "       'Lost Reason', 'Page', 'Campaign', 'SLA', 'Content', 'Term', 'Source',\n",
              "       'Payment Type', 'Product', 'Education Type', 'Created Time',\n",
              "       'Course duration', 'Months of study', 'Initial Amount Paid',\n",
              "       'Offer Total Amount', 'Contact Name', 'City', 'Level of Deutsch',\n",
              "       'Campaign Date', 'Id_y', 'Contact Owner Name', 'Modified Time'],\n",
              "      dtype='object')"
            ]
          },
          "metadata": {},
          "execution_count": 53
        }
      ]
    },
    {
      "cell_type": "code",
      "source": [
        "deals.loc[deals['Contact Name'].isna(), 'Contact Name'] = merged_deals_id['Id_y']\n",
        "\n",
        "deals['Contact Name'].isna().sum()"
      ],
      "metadata": {
        "colab": {
          "base_uri": "https://localhost:8080/"
        },
        "outputId": "9b6743bc-78a8-477e-8c96-029d71ac8024",
        "id": "ztY9lNEv25bX"
      },
      "execution_count": null,
      "outputs": [
        {
          "output_type": "execute_result",
          "data": {
            "text/plain": [
              "32"
            ]
          },
          "metadata": {},
          "execution_count": 54
        }
      ]
    },
    {
      "cell_type": "code",
      "source": [
        "merged_deals_calls = pd.merge(deals, calls,\n",
        "                              how='inner',\n",
        "                              left_on=['Deal Owner Name', 'Created Time'],\n",
        "                              right_on=['Call Owner Name', 'Call Start Time'])\n",
        "\n",
        "merged_deals_calls.columns"
      ],
      "metadata": {
        "colab": {
          "base_uri": "https://localhost:8080/"
        },
        "outputId": "06ab196e-59b1-4395-9e8a-85f410915e68",
        "id": "Y5ulazr925bY"
      },
      "execution_count": null,
      "outputs": [
        {
          "output_type": "execute_result",
          "data": {
            "text/plain": [
              "Index(['Id_x', 'Deal Owner Name', 'Closing Date', 'Quality', 'Stage',\n",
              "       'Lost Reason', 'Page', 'Campaign', 'SLA', 'Content', 'Term', 'Source',\n",
              "       'Payment Type', 'Product', 'Education Type', 'Created Time',\n",
              "       'Course duration', 'Months of study', 'Initial Amount Paid',\n",
              "       'Offer Total Amount', 'Contact Name', 'City', 'Level of Deutsch',\n",
              "       'Campaign Date', 'Id_y', 'Call Start Time', 'Call Owner Name',\n",
              "       'CONTACTID', 'Call Type', 'Call Duration (in seconds)', 'Call Status',\n",
              "       'Outgoing Call Status', 'Scheduled in CRM'],\n",
              "      dtype='object')"
            ]
          },
          "metadata": {},
          "execution_count": 55
        }
      ]
    },
    {
      "cell_type": "code",
      "source": [
        "deals.loc[deals['Contact Name'].isna(), 'Contact Name'] = merged_deals_calls['Id_y']\n",
        "\n",
        "deals['Contact Name'].isna().sum()"
      ],
      "metadata": {
        "colab": {
          "base_uri": "https://localhost:8080/"
        },
        "outputId": "092e7e03-fc2b-4f2f-9b33-2fa3f205da90",
        "id": "lyKzKtLw25bY"
      },
      "execution_count": null,
      "outputs": [
        {
          "output_type": "execute_result",
          "data": {
            "text/plain": [
              "32"
            ]
          },
          "metadata": {},
          "execution_count": 56
        }
      ]
    },
    {
      "cell_type": "code",
      "source": [
        "null_indices_deals = deals[deals['Contact Name'].isna()].index\n",
        "null_indices_d = deals[deals['Contact Name'].isna()].index.tolist()\n",
        "\n",
        "deals.loc[null_indices_deals, 'Contact Name'] = [2000 + i for i in range(1, len(null_indices_d) + 1)]\n",
        "\n",
        "deals['Contact Name'].isna().sum()"
      ],
      "metadata": {
        "colab": {
          "base_uri": "https://localhost:8080/"
        },
        "outputId": "8444a95d-804d-4cda-c424-81ae71efeb5b",
        "id": "UDCex0Bo25bZ"
      },
      "execution_count": null,
      "outputs": [
        {
          "output_type": "execute_result",
          "data": {
            "text/plain": [
              "0"
            ]
          },
          "metadata": {},
          "execution_count": 57
        }
      ]
    },
    {
      "cell_type": "markdown",
      "source": [
        "Changing the data type.\n",
        "The data type in Created Time was changed while processing the calls table"
      ],
      "metadata": {
        "id": "dGDlQGxVKf2x"
      }
    },
    {
      "cell_type": "code",
      "source": [
        "deals['Id'] = deals['Id'].astype(int)\n",
        "deals['Contact Name'] = deals['Contact Name'].astype(int)\n",
        "deals['Closing Date'] = pd.to_datetime(deals['Closing Date'], format='%d.%m.%Y')\n",
        "# deals['Created Time'] = pd.to_datetime(deals['Created Time'], format='%d.%m.%Y %H:%M')\n",
        "\n",
        "deals['SLA'] = deals['SLA'].astype(str)\n",
        "deals['SLA'] = pd.to_timedelta(deals['SLA'], errors='coerce')"
      ],
      "metadata": {
        "id": "IuXURkKFxM86"
      },
      "execution_count": null,
      "outputs": []
    },
    {
      "cell_type": "markdown",
      "source": [
        "To handle columns with sums, we remove extra characters and then change the data type"
      ],
      "metadata": {
        "id": "WMNn0kILKugY"
      }
    },
    {
      "cell_type": "code",
      "source": [
        "deals['Initial Amount Paid'] = deals['Initial Amount Paid'].astype(str) \\\n",
        "    .str.replace('€', '', regex=False) \\\n",
        "    .str.replace(' ', '', regex=False) \\\n",
        "    .str.replace('.', '', regex=False) \\\n",
        "    .str.replace(',', '.', regex=False)\n",
        "\n",
        "deals['Offer Total Amount'] = deals['Offer Total Amount'].astype(str) \\\n",
        "    .str.replace('€', '', regex=False) \\\n",
        "    .str.replace(' ', '', regex=False) \\\n",
        "    .str.replace('.', '', regex=False) \\\n",
        "    .str.replace(',', '.', regex=False)\n",
        "\n",
        "deals['Initial Amount Paid'] = pd.to_numeric(deals['Initial Amount Paid'], errors='coerce')\n",
        "deals['Offer Total Amount'] = pd.to_numeric(deals['Offer Total Amount'], errors='coerce')"
      ],
      "metadata": {
        "collapsed": true,
        "id": "lVMFMeFJyjLW"
      },
      "execution_count": null,
      "outputs": []
    },
    {
      "cell_type": "code",
      "source": [
        "deals.info()"
      ],
      "metadata": {
        "colab": {
          "base_uri": "https://localhost:8080/"
        },
        "id": "s1iD1-RgzUfk",
        "outputId": "69d503bd-c575-456b-a493-b2d8d8ff402c"
      },
      "execution_count": null,
      "outputs": [
        {
          "output_type": "stream",
          "name": "stdout",
          "text": [
            "<class 'pandas.core.frame.DataFrame'>\n",
            "Index: 21590 entries, 0 to 21589\n",
            "Data columns (total 24 columns):\n",
            " #   Column               Non-Null Count  Dtype          \n",
            "---  ------               --------------  -----          \n",
            " 0   Id                   21590 non-null  int64          \n",
            " 1   Deal Owner Name      21590 non-null  object         \n",
            " 2   Closing Date         14643 non-null  datetime64[ns] \n",
            " 3   Quality              21590 non-null  object         \n",
            " 4   Stage                21590 non-null  object         \n",
            " 5   Lost Reason          21590 non-null  object         \n",
            " 6   Page                 21590 non-null  object         \n",
            " 7   Campaign             21590 non-null  object         \n",
            " 8   SLA                  15533 non-null  timedelta64[ns]\n",
            " 9   Content              21590 non-null  object         \n",
            " 10  Term                 21590 non-null  object         \n",
            " 11  Source               21590 non-null  object         \n",
            " 12  Payment Type         21590 non-null  object         \n",
            " 13  Product              21590 non-null  object         \n",
            " 14  Education Type       21590 non-null  object         \n",
            " 15  Created Time         21590 non-null  datetime64[ns] \n",
            " 16  Course duration      3587 non-null   float64        \n",
            " 17  Months of study      840 non-null    float64        \n",
            " 18  Initial Amount Paid  4165 non-null   float64        \n",
            " 19  Offer Total Amount   4185 non-null   float64        \n",
            " 20  Contact Name         21590 non-null  int64          \n",
            " 21  City                 21590 non-null  object         \n",
            " 22  Level of Deutsch     21590 non-null  object         \n",
            " 23  Campaign Date        6148 non-null   datetime64[ns] \n",
            "dtypes: datetime64[ns](3), float64(4), int64(2), object(14), timedelta64[ns](1)\n",
            "memory usage: 4.6+ MB\n"
          ]
        }
      ]
    },
    {
      "cell_type": "markdown",
      "source": [
        "# **file saving**"
      ],
      "metadata": {
        "id": "DLS9M9kQLXQo"
      }
    },
    {
      "cell_type": "code",
      "source": [
        "databases = {\n",
        "    'Calls': calls,\n",
        "    'Contacts': contacts,\n",
        "    'Deals': deals,\n",
        "    'Spend': spend\n",
        "}"
      ],
      "metadata": {
        "id": "7qUvW-QWclGW"
      },
      "execution_count": null,
      "outputs": []
    },
    {
      "cell_type": "code",
      "source": [
        "for name, df in databases.items():\n",
        "    # File name generation\n",
        "    file_name = f'new_{name}.xlsx'\n",
        "\n",
        "    try:\n",
        "        # Saving DataFrame to Excel file\n",
        "        df.to_excel(file_name, index=False)\n",
        "        print(f'Data saved successfully to {file_name}!')\n",
        "    except Exception as e:\n",
        "        print(f'Error saving {file_name}: {e}')\n"
      ],
      "metadata": {
        "colab": {
          "base_uri": "https://localhost:8080/"
        },
        "id": "D8JDipwALEXm",
        "outputId": "331f69c5-1a89-44c9-c127-b402baa4bbaf"
      },
      "execution_count": null,
      "outputs": [
        {
          "output_type": "stream",
          "name": "stdout",
          "text": [
            "Data saved successfully to new_Calls.xlsx!\n",
            "Data saved successfully to new_Contacts.xlsx!\n",
            "Data saved successfully to new_Deals.xlsx!\n",
            "Data saved successfully to new_Spend.xlsx!\n"
          ]
        }
      ]
    },
    {
      "cell_type": "code",
      "source": [
        "deals.info()"
      ],
      "metadata": {
        "colab": {
          "base_uri": "https://localhost:8080/"
        },
        "id": "G6ETP388-GLH",
        "outputId": "96c9f563-a3e7-4947-ffdb-c1fb84b22bfc"
      },
      "execution_count": null,
      "outputs": [
        {
          "output_type": "stream",
          "name": "stdout",
          "text": [
            "<class 'pandas.core.frame.DataFrame'>\n",
            "Index: 21590 entries, 0 to 21589\n",
            "Data columns (total 24 columns):\n",
            " #   Column               Non-Null Count  Dtype          \n",
            "---  ------               --------------  -----          \n",
            " 0   Id                   21590 non-null  int64          \n",
            " 1   Deal Owner Name      21590 non-null  object         \n",
            " 2   Closing Date         14643 non-null  datetime64[ns] \n",
            " 3   Quality              21590 non-null  object         \n",
            " 4   Stage                21590 non-null  object         \n",
            " 5   Lost Reason          21590 non-null  object         \n",
            " 6   Page                 21590 non-null  object         \n",
            " 7   Campaign             21590 non-null  object         \n",
            " 8   SLA                  15533 non-null  timedelta64[ns]\n",
            " 9   Content              21590 non-null  object         \n",
            " 10  Term                 21590 non-null  object         \n",
            " 11  Source               21590 non-null  object         \n",
            " 12  Payment Type         21590 non-null  object         \n",
            " 13  Product              21590 non-null  object         \n",
            " 14  Education Type       21590 non-null  object         \n",
            " 15  Created Time         21590 non-null  datetime64[ns] \n",
            " 16  Course duration      3587 non-null   float64        \n",
            " 17  Months of study      840 non-null    float64        \n",
            " 18  Initial Amount Paid  4165 non-null   float64        \n",
            " 19  Offer Total Amount   4185 non-null   float64        \n",
            " 20  Contact Name         21590 non-null  int64          \n",
            " 21  City                 21590 non-null  object         \n",
            " 22  Level of Deutsch     21590 non-null  object         \n",
            " 23  Campaign Date        6148 non-null   datetime64[ns] \n",
            "dtypes: datetime64[ns](3), float64(4), int64(2), object(14), timedelta64[ns](1)\n",
            "memory usage: 4.6+ MB\n"
          ]
        }
      ]
    }
  ]
}